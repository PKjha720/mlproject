{
  "nbformat": 4,
  "nbformat_minor": 0,
  "metadata": {
    "colab": {
      "provenance": [],
      "mount_file_id": "1yktmk8xdFN0V7BI3O18lcY4UEV9QbrlV",
      "authorship_tag": "ABX9TyNiN5rRALvbzIqbeNhd+ykl",
      "include_colab_link": true
    },
    "kernelspec": {
      "name": "python3",
      "display_name": "Python 3"
    },
    "language_info": {
      "name": "python"
    }
  },
  "cells": [
    {
      "cell_type": "markdown",
      "metadata": {
        "id": "view-in-github",
        "colab_type": "text"
      },
      "source": [
        "<a href=\"https://colab.research.google.com/github/PKjha720/mlproject/blob/main/Brst_cancer.ipynb\" target=\"_parent\"><img src=\"https://colab.research.google.com/assets/colab-badge.svg\" alt=\"Open In Colab\"/></a>"
      ]
    },
    {
      "cell_type": "code",
      "execution_count": null,
      "metadata": {
        "id": "OX2_zKil_6O5"
      },
      "outputs": [],
      "source": [
        "#load libraries\n",
        "import numpy as np\n",
        "import pandas as pd\n",
        "df=pd.read_csv('/content/drive/MyDrive/Colab Notebooks/Breast_Cancer_Prediction/data.csv', index_col=False)"
      ]
    },
    {
      "cell_type": "code",
      "source": [
        "df.head()"
      ],
      "metadata": {
        "id": "3iNV686eOpOl"
      },
      "execution_count": null,
      "outputs": []
    },
    {
      "cell_type": "code",
      "source": [
        "#save the clean file\n",
        "df.to_csv('/content/drive/MyDrive/Colab Notebooks/Breast_Cancer_Prediction/data_clean_id.csv')"
      ],
      "metadata": {
        "id": "brMUGepPO6me"
      },
      "execution_count": null,
      "outputs": []
    },
    {
      "cell_type": "code",
      "source": [
        "#id column is redundant and not useful drop the coloumn\n",
        "df.drop('id',axis=1,inplace=True)\n",
        "df.head(3)"
      ],
      "metadata": {
        "id": "ek1iYXn2PXzS"
      },
      "execution_count": null,
      "outputs": []
    },
    {
      "cell_type": "code",
      "source": [
        "df.shape"
      ],
      "metadata": {
        "id": "MY_WmvFOQt5n"
      },
      "execution_count": null,
      "outputs": []
    },
    {
      "cell_type": "code",
      "source": [
        "df.info()"
      ],
      "metadata": {
        "id": "j3mxCQVTQzxW"
      },
      "execution_count": null,
      "outputs": []
    },
    {
      "cell_type": "code",
      "source": [
        "df.isnull().any()"
      ],
      "metadata": {
        "id": "FiJh86NpQ7x2"
      },
      "execution_count": null,
      "outputs": []
    },
    {
      "cell_type": "code",
      "source": [
        "df.drop(\"Unnamed: 32\", axis=1,inplace=True)\n",
        "df.isnull().any()"
      ],
      "metadata": {
        "id": "YUno9qYHRJSV"
      },
      "execution_count": null,
      "outputs": []
    },
    {
      "cell_type": "code",
      "source": [
        "df.diagnosis.unique()"
      ],
      "metadata": {
        "id": "MtWwydCRRupm"
      },
      "execution_count": null,
      "outputs": []
    },
    {
      "cell_type": "code",
      "source": [
        "df.to_csv(\"/content/drive/MyDrive/Colab Notebooks/Breast_Cancer_Prediction/data_clean.csv\")"
      ],
      "metadata": {
        "id": "q6M-nmWsUW9x"
      },
      "execution_count": null,
      "outputs": []
    },
    {
      "cell_type": "code",
      "source": [
        "%matplotlib inline\n",
        "import matplotlib.pyplot as plt\n",
        "import pandas as pd\n",
        "from scipy.stats import norm\n",
        "import seaborn as sns\n",
        "plt.rcParams['figure.figsize']=(15,8)\n",
        "plt.rcParams['axes.titlesize']='large'\n"
      ],
      "metadata": {
        "id": "NXwQ6cHvVBjB"
      },
      "execution_count": null,
      "outputs": []
    },
    {
      "cell_type": "code",
      "source": [
        "#using clean data with \"id\"\n",
        "df=pd.read_csv(\"/content/drive/MyDrive/Colab Notebooks/Breast_Cancer_Prediction/data_clean_id.csv\",index_col=False)\n",
        "df.drop(['Unnamed: 0','Unnamed: 32'],axis=1,inplace=True)\n",
        "df.head(3)\n"
      ],
      "metadata": {
        "id": "rpTdKiLRfV3G"
      },
      "execution_count": null,
      "outputs": []
    },
    {
      "cell_type": "code",
      "source": [
        "df.describe()"
      ],
      "metadata": {
        "id": "YDAD393UkUJM"
      },
      "execution_count": null,
      "outputs": []
    },
    {
      "cell_type": "code",
      "source": [
        "df.skew()"
      ],
      "metadata": {
        "id": "JTdwu8troPGV"
      },
      "execution_count": null,
      "outputs": []
    },
    {
      "cell_type": "code",
      "source": [
        "df.diagnosis.unique()"
      ],
      "metadata": {
        "id": "OuhJekEhrqxG"
      },
      "execution_count": null,
      "outputs": []
    },
    {
      "cell_type": "code",
      "source": [
        "#Group by diagnosis and review the output\n",
        "diag_gr=df.groupby(\"diagnosis\",axis=0)\n",
        "pdN=pd.DataFrame(diag_gr.size(),columns=['# of observations'])"
      ],
      "metadata": {
        "id": "ho9YVJO0s9Wx"
      },
      "execution_count": null,
      "outputs": []
    },
    {
      "cell_type": "code",
      "source": [
        "print(pdN)\n"
      ],
      "metadata": {
        "id": "Ich7DamC7GaC"
      },
      "execution_count": null,
      "outputs": []
    },
    {
      "cell_type": "code",
      "source": [
        "#lets get the frequency of cancer diagnosis\n",
        "sns.set_style(\"white\")\n",
        "sns.set_context({\"figure.figsize\": (10, 8)})\n",
        "sns.countplot(x=df.diagnosis,label='Count',palette=\"Set3\")\n",
        "plt.show()"
      ],
      "metadata": {
        "id": "9xAeBc3atEJ5"
      },
      "execution_count": null,
      "outputs": []
    },
    {
      "cell_type": "code",
      "source": [
        "df_id_diag=df.loc[:,[\"id\",\"diagnosis\"]]\n",
        "df_diag=df.loc[:,[\"diagnosis\"]]\n",
        "df_mean=df.iloc[:,1:11]\n",
        "df_se=df.iloc[:,11:22]\n",
        "df_worst=df.iloc[:,23:]\n",
        "print(df_id_diag.columns)\n",
        "print(df_diag.columns)\n",
        "print(df_mean.columns)\n"
      ],
      "metadata": {
        "id": "DGng7rAz6QnV"
      },
      "execution_count": null,
      "outputs": []
    },
    {
      "cell_type": "code",
      "source": [
        "hist_mean=df_mean.hist(bins=10,figsize=(15,10),grid=False)"
      ],
      "metadata": {
        "id": "OiWGq5kAIIIL"
      },
      "execution_count": null,
      "outputs": []
    },
    {
      "cell_type": "code",
      "source": [
        "hist_se=df_se.hist(bins=10,figsize=(15,10),grid=False)"
      ],
      "metadata": {
        "id": "rD7LUNsGMFmI"
      },
      "execution_count": null,
      "outputs": []
    },
    {
      "cell_type": "code",
      "source": [
        "hist_worst=df_worst.hist(bins=10, figsize=(15,10),grid=False)"
      ],
      "metadata": {
        "id": "GB6hmTNtOA4M"
      },
      "execution_count": null,
      "outputs": []
    },
    {
      "cell_type": "code",
      "source": [
        "plt=df_mean.plot(kind='density',subplots=True,layout=(4,3),sharex=False,\n",
        "                 sharey=False, fontsize=12, figsize=(15,15))"
      ],
      "metadata": {
        "id": "jdiVYd1bQAZo"
      },
      "execution_count": null,
      "outputs": []
    },
    {
      "cell_type": "code",
      "source": [
        "plt=df_se.plot(kind=\"density\",subplots=True,layout=(4,3),sharex=False,sharey=False,fontsize=12,figsize=(15,10))"
      ],
      "metadata": {
        "id": "Zj-ECRBeVE5P"
      },
      "execution_count": null,
      "outputs": []
    },
    {
      "cell_type": "code",
      "source": [
        "plt=df_worst.plot(kind=\"kde\",subplots=True,layout=(4,3),sharex=False,sharey=False,\n",
        "                  fontsize=5,figsize=(15,10))"
      ],
      "metadata": {
        "id": "bHOmbvReZyPG"
      },
      "execution_count": null,
      "outputs": []
    },
    {
      "cell_type": "code",
      "source": [
        "plt=df_mean.plot(kind=\"box\",subplots=True,layout=(4,3),sharex=False,sharey=False,fontsize=12)"
      ],
      "metadata": {
        "id": "OmF3qwZ-cIXA"
      },
      "execution_count": null,
      "outputs": []
    },
    {
      "cell_type": "code",
      "source": [
        "plt=df_se.plot(kind=\"box\",layout=(4,3),sharex=False,sharey=False,fontsize=12,subplots=True)"
      ],
      "metadata": {
        "id": "icshVi3he1N8"
      },
      "execution_count": null,
      "outputs": []
    },
    {
      "cell_type": "code",
      "source": [
        "plt=df_worst.plot(kind=\"box\",layout=(4,3),subplots=True,sharex=True,sharey=False,fontsize=12)"
      ],
      "metadata": {
        "id": "VDsVPTXHgky4"
      },
      "execution_count": null,
      "outputs": []
    },
    {
      "cell_type": "code",
      "source": [
        "# plot correlation matrix\n",
        "import pandas as pd\n",
        "import numpy as np\n",
        "import seaborn as sns\n",
        "from matplotlib import pyplot as plt\n",
        "\n",
        "plt.style.use('fivethirtyeight')\n",
        "sns.set_style(\"white\")\n",
        "\n",
        "df = pd.read_csv('/content/drive/MyDrive/Colab Notebooks/Breast_Cancer_Prediction/data_clean.csv', index_col=False)\n",
        "df.drop('Unnamed: 0',axis=1, inplace=True)\n",
        "\n",
        "# Compute the correlation matrix\n",
        "corr = df_mean.corr()\n",
        "\n",
        "# Generate a mask for the upper triangle\n",
        "mask = np.zeros_like(corr, dtype=np.bool)\n",
        "mask[np.triu_indices_from(mask)] = True\n"
      ],
      "metadata": {
        "id": "LNvSt94q-kVP"
      },
      "execution_count": null,
      "outputs": []
    },
    {
      "cell_type": "code",
      "source": [
        "df, ax = plt.subplots(figsize=(8, 8))\n",
        "plt.title('Breast Cancer Feature Correlation')\n",
        "\n",
        "# Generate a custom diverging colormap\n",
        "cmap = sns.diverging_palette(260, 10, as_cmap=True)\n",
        "\n",
        "# Draw the heatmap with the mask and correct aspect ratio\n",
        "sns.heatmap(corr, vmax=1.2, square='square', cmap=cmap, mask=mask,\n",
        "            ax=ax,annot=True, fmt='.2g',linewidths=2)"
      ],
      "metadata": {
        "id": "1KNMa22wD1CO"
      },
      "execution_count": null,
      "outputs": []
    },
    {
      "cell_type": "code",
      "source": [
        "plt.style.use(\"fivethirtyeight\")\n",
        "sns.set_style('white')\n",
        "df=pd.read_csv('/content/drive/MyDrive/Colab Notebooks/Breast_Cancer_Prediction/data_clean.csv',index_col=False)\n",
        "g=sns.PairGrid(df[[df.columns[1],df.columns[2],df.columns[3],df.columns[4],df.columns[5],df.columns[6]]],hue='diagnosis')\n",
        "g=g.map_diag(plt.hist)\n",
        "g=g.map_offdiag(plt.scatter,s=3)\n",
        "plt.legend(['Malignant','Benign'])\n"
      ],
      "metadata": {
        "id": "SOjMEG1_EBfx"
      },
      "execution_count": null,
      "outputs": []
    },
    {
      "cell_type": "code",
      "source": [
        "%matplotlib inline\n",
        "import matplotlib.pyplot as plt\n",
        "import pandas as pd\n",
        "import numpy as np\n",
        "from scipy.stats import norm\n",
        "import seaborn as sns\n",
        "plt.style.use('fivethirtyeight')\n",
        "sns.set_style('white')\n",
        "plt.rcParams['figure.figsize']=(8,4)\n",
        "df=pd.read_csv('/content/drive/MyDrive/Colab Notebooks/Breast_Cancer_Prediction/data_clean.csv',index_col=False)\n",
        "df.drop('Unnamed: 0', axis=1 ,inplace=True)\n",
        "df.head()"
      ],
      "metadata": {
        "id": "_BpWXd2YSlrP"
      },
      "execution_count": null,
      "outputs": []
    },
    {
      "cell_type": "code",
      "source": [
        "array=df.values\n",
        "X=array[:,1:31]\n",
        "y=array[:,0]\n",
        "X"
      ],
      "metadata": {
        "id": "7GHXkQeKZzgE"
      },
      "execution_count": null,
      "outputs": []
    },
    {
      "cell_type": "code",
      "source": [
        "from sklearn.preprocessing import LabelEncoder\n",
        "le=LabelEncoder()\n",
        "y=le.fit_transform(y)\n",
        "y"
      ],
      "metadata": {
        "id": "AIX77-vbeWVu"
      },
      "execution_count": null,
      "outputs": []
    },
    {
      "cell_type": "code",
      "source": [
        "from sklearn.model_selection import train_test_split\n",
        "X_train,X_split,y_train,y_split=train_test_split(X,y,test_size=0.25,random_state=7)"
      ],
      "metadata": {
        "id": "kn8wgf0PfGDZ"
      },
      "execution_count": null,
      "outputs": []
    },
    {
      "cell_type": "code",
      "source": [
        "X_train.shape,X_split.shape,y_train.shape,y_split.shape"
      ],
      "metadata": {
        "id": "87YuF_XKizur"
      },
      "execution_count": null,
      "outputs": []
    },
    {
      "cell_type": "code",
      "source": [
        "from sklearn.preprocessing import StandardScaler\n",
        "scaler=StandardScaler()\n",
        "Xs=scaler.fit_transform(X)"
      ],
      "metadata": {
        "id": "--crhK5sjdkY"
      },
      "execution_count": null,
      "outputs": []
    },
    {
      "cell_type": "code",
      "source": [
        "from sklearn.decomposition import PCA\n",
        "pca=PCA(n_components=10)\n",
        "fit=pca.fit(Xs)"
      ],
      "metadata": {
        "id": "SMbYGhI8pO2H"
      },
      "execution_count": null,
      "outputs": []
    },
    {
      "cell_type": "code",
      "source": [
        "X_pca=pca.transform(Xs)\n",
        "PCA_df=pd.DataFrame()\n",
        "PCA_df['PCA_1']=X_pca[:,0]\n",
        "PCA_df['PCA_2']=X_pca[:,1]\n",
        "plt.plot(PCA_df['PCA_1'][df.diagnosis=='M'],PCA_df['PCA_2'][df.diagnosis=='M'],'o',alpha=0.7,color='r')\n",
        "plt.plot(PCA_df['PCA_1'][df.diagnosis=='B'],PCA_df['PCA_2'][df.diagnosis=='B'],'o',alpha=0.7,color='b')\n",
        "plt.xlabel('PCA_1')\n",
        "plt.ylabel('PCA_2')\n",
        "plt.legend(['Malignant','Benign'])\n",
        "plt.show()\n"
      ],
      "metadata": {
        "id": "_E51MZddqf_Q"
      },
      "execution_count": null,
      "outputs": []
    },
    {
      "cell_type": "code",
      "source": [
        "var=pca.explained_variance_ratio_\n",
        "var1=np.cumsum(np.round(var,decimals=4)*100)\n",
        "print(var1)"
      ],
      "metadata": {
        "id": "hWm90tXrWNZ0"
      },
      "execution_count": null,
      "outputs": []
    },
    {
      "cell_type": "code",
      "source": [
        "plt.plot(var)\n",
        "plt.title('Scree Plot')\n",
        "plt.xlabel('Principal Component')\n",
        "plt.ylabel('Eigen Value')\n",
        "leg = plt.legend(['Eigenvalues from PCA'], loc='best', borderpad=0.3,shadow=False,markerscale=0.4)\n",
        "leg.get_frame().set_alpha(0.4)\n",
        "leg.set_draggable(state=True)\n",
        "plt.show()"
      ],
      "metadata": {
        "id": "6vTDoPYuWtNp"
      },
      "execution_count": null,
      "outputs": []
    },
    {
      "cell_type": "code",
      "source": [
        "%matplotlib inline\n",
        "import matplotlib.pyplot as plt\n",
        "import pandas as pd\n",
        "import numpy as np\n",
        "from scipy.stats import norm\n",
        "\n",
        "from sklearn.preprocessing import StandardScaler\n",
        "from sklearn.preprocessing import LabelEncoder\n",
        "from sklearn.model_selection import train_test_split\n",
        "from sklearn.svm import SVC\n",
        "from sklearn.model_selection import cross_val_score\n",
        "from sklearn.pipeline import make_pipeline\n",
        "from sklearn.metrics import confusion_matrix\n",
        "from sklearn import metrics,preprocessing\n",
        "from sklearn.metrics import classification_report\n",
        "\n",
        "import seaborn as sns\n",
        "plt.style.use('fivethirtyeight')\n",
        "sns.set_style('white')\n",
        "\n",
        "plt.rcParams['figure.figsize']=(8,4)\n",
        "plt.rcParams['axes.titlesize']='large'\n",
        "\n"
      ],
      "metadata": {
        "id": "flHD_Q4Jbev1"
      },
      "execution_count": null,
      "outputs": []
    },
    {
      "cell_type": "code",
      "source": [
        "df=pd.read_csv(\"/content/drive/MyDrive/Colab Notebooks/Breast_Cancer_Prediction/data_clean.csv\",index_col=False)\n",
        "df.drop('Unnamed: 0',axis=1, inplace=True)\n",
        "df.head()"
      ],
      "metadata": {
        "id": "QSbrgQXiprk5"
      },
      "execution_count": null,
      "outputs": []
    },
    {
      "cell_type": "code",
      "source": [
        "array=df.values\n",
        "X=array[:,1:31]\n",
        "y=array[:,0]\n",
        "le=LabelEncoder()\n",
        "y=le.fit_transform(y)\n",
        "scaler=StandardScaler()\n",
        "Xs=scaler.fit_transform(X)"
      ],
      "metadata": {
        "id": "YJd2CsSu4P4W"
      },
      "execution_count": null,
      "outputs": []
    },
    {
      "cell_type": "code",
      "source": [
        "X_train,X_test,y_train,y_test=train_test_split(Xs,y,test_size=0.3,random_state=2, stratify=y)\n",
        "clf=SVC(probability=True)\n",
        "clf.fit(X_train,y_train)\n",
        "classifier_score=clf.score(X_test,y_test)\n",
        "print('\\n The classifier accuracy score is {:03.2f}\\n'.format(classifier_score))\n"
      ],
      "metadata": {
        "id": "Xtp5ea9Y6L6c"
      },
      "execution_count": null,
      "outputs": []
    },
    {
      "cell_type": "code",
      "source": [
        "n_folds=3\n",
        "cv_error=np.average(cross_val_score(SVC(),Xs,y,cv=n_folds))\n",
        "print('\\n-> The {}-fold-cross-validation accuracy score for this classifier is {:.2f}\\n '.format(n_folds,cv_error))\n"
      ],
      "metadata": {
        "id": "jXqgJYtVLiP2"
      },
      "execution_count": null,
      "outputs": []
    },
    {
      "cell_type": "code",
      "source": [
        "from sklearn.feature_selection import SelectKBest,f_regression\n",
        "clf2=make_pipeline(SelectKBest(f_regression,k=3),SVC(probability=True))\n",
        "scores=cross_val_score(clf2,Xs,y,cv=3)\n",
        "n_folds=3\n",
        "cv_error=np.average(cross_val_score(SVC(),Xs,y,cv=n_folds))\n",
        "print('\\n-> The {}-fold-cross-validation accuracy score for this classifier is {:.2f}\\n'.format(n_folds,cv_error))"
      ],
      "metadata": {
        "id": "jvpi7MnAS6RP"
      },
      "execution_count": null,
      "outputs": []
    },
    {
      "cell_type": "code",
      "source": [
        "print(scores)\n",
        "avg=(100*np.mean(scores),100*np.std(scores)/np.sqrt(scores.shape[0]))\n",
        "print('-> Average score and Uncertainty: (%.2f+-%.3f)%%'%avg)"
      ],
      "metadata": {
        "id": "09dPljaLWh95"
      },
      "execution_count": null,
      "outputs": []
    },
    {
      "cell_type": "code",
      "source": [
        "y_pred=clf.fit(X_train,y_train).predict(X_test)\n",
        "cm=metrics.confusion_matrix(y_pred,y_test)\n",
        "print(cm)"
      ],
      "metadata": {
        "id": "IjR1f8IsZT-C"
      },
      "execution_count": null,
      "outputs": []
    },
    {
      "cell_type": "code",
      "source": [
        "%matplotlib inline\n",
        "import matplotlib.pyplot as plt\n",
        "from IPython.display import Image, display\n",
        "fig,ax=plt.subplots(figsize=(5,5))\n",
        "ax.matshow(cm,cmap=plt.cm.Reds,alpha=0.3)\n",
        "for i in range(cm.shape[0]):\n",
        "  for j in range(cm.shape[1]):\n",
        "    ax.text(x=i,y=j,s=cm[i,j],va='center',ha='center')\n",
        "plt.xlabel('Predicted values')\n",
        "plt.ylabel('Actual values')\n",
        "plt.show()"
      ],
      "metadata": {
        "id": "p2Jgqem_WxoC"
      },
      "execution_count": null,
      "outputs": []
    },
    {
      "cell_type": "code",
      "source": [
        "print(classification_report(y_test, y_pred ))"
      ],
      "metadata": {
        "id": "kouNdETExw2F"
      },
      "execution_count": null,
      "outputs": []
    },
    {
      "cell_type": "code",
      "source": [
        "from sklearn.metrics import roc_curve, auc\n",
        "\n",
        "# Plot the receiver operating characteristic curve (ROC).\n",
        "plt.figure(figsize=(10,8))\n",
        "probas_ = clf.predict_proba(X_test)\n",
        "fpr, tpr, thresholds = roc_curve(y_test, probas_[:, 1])\n",
        "roc_auc = auc(fpr, tpr)\n",
        "plt.plot(fpr, tpr, lw=1, label='ROC fold (area = %0.2f)' % (roc_auc))\n",
        "plt.plot([0, 1], [0, 1], '--', color=(0.6, 0.6, 0.6), label='Random')\n",
        "plt.xlim([-0.05, 1.05])\n",
        "plt.ylim([-0.05, 1.05])\n",
        "plt.xlabel('False Positive Rate')\n",
        "plt.ylabel('True Positive Rate')\n",
        "plt.title('Receiver operating characteristic example')\n"
      ],
      "metadata": {
        "id": "5YYd8ia1xxb0"
      },
      "execution_count": null,
      "outputs": []
    },
    {
      "cell_type": "code",
      "source": [
        "%matplotlib inline\n",
        "import matplotlib.pyplot as plt\n",
        "import pandas as pd\n",
        "import numpy as np\n",
        "from scipy.stats import norm\n",
        "from sklearn.preprocessing import StandardScaler\n",
        "from sklearn.preprocessing import LabelEncoder\n",
        "from sklearn.model_selection import train_test_split\n",
        "from sklearn.svm import SVC\n",
        "from sklearn.model_selection import cross_val_score\n",
        "from sklearn.model_selection import GridSearchCV\n",
        "from sklearn.pipeline import make_pipeline\n",
        "from sklearn.metrics import confusion_matrix\n",
        "from sklearn.metrics import classification_report\n",
        "from sklearn import metrics,preprocessing\n",
        "from sklearn.feature_selection import SelectKBest,f_regression\n",
        "import seaborn as sns\n",
        "plt.style.use('fivethirtyeight')\n",
        "sns.set_style(\"white\")\n",
        "plt.rcParams['figure.figsize']=(8,4)\n"
      ],
      "metadata": {
        "id": "kIMC0_Kn5LWS"
      },
      "execution_count": null,
      "outputs": []
    },
    {
      "cell_type": "code",
      "source": [
        "X"
      ],
      "metadata": {
        "id": "1kP81cHH-Gfz"
      },
      "execution_count": null,
      "outputs": []
    },
    {
      "cell_type": "code",
      "source": [
        "df=pd.read_csv('/content/drive/MyDrive/Colab Notebooks/Breast_Cancer_Prediction/data_clean.csv',index_col=False)\n",
        "df.drop('Unnamed: 0',axis=1,inplace=True)\n",
        "array=df.values\n",
        "X=array[:,1:31]\n",
        "y=array[:,0]\n",
        "le=LabelEncoder()\n",
        "y=le.fit_transform(y)\n",
        "scaler=StandardScaler()\n",
        "Xs=scaler.fit_transform(X)\n",
        "from sklearn.decomposition import PCA\n",
        "pca=PCA(n_components=10)\n",
        "X_pca=pca.fit_transform(Xs)\n",
        "X_train,X_test,y_train,y_test=train_test_split(X_pca,y,test_size=0.3,random_state=2,stratify=y)\n",
        "clf=SVC(probability=True)\n",
        "clf.fit(X_train,y_train)\n",
        "classifier_score=clf.score(X_test,y_test)\n",
        "print('\\n The classifier accuracy score is {:03.2f}\\n'.format(classifier_score))\n",
        "clf2=make_pipeline(SelectKBest(f_regression,k=3),SVC(probability=True))\n",
        "scores=cross_val_score(clf2,X_pca,y,cv=3)\n",
        "n_folds=5\n",
        "cv_error=np.average(cross_val_score(SVC(),X_pca,y,cv=n_folds))\n",
        "print('\\n {} fold cross validation accuracy score for this classifier is {:.2f} \\n'.format(n_folds,cv_error))\n",
        "y_pred=clf.fit(X_train,y_train).predict(X_test)\n",
        "cm=metrics.confusion_matrix(y_test,y_pred)\n",
        "print(classification_report(y_test,y_pred))\n",
        "fig,ax=plt.subplots(figsize=(5,5))\n",
        "ax.matshow(cm,cmap=plt.cm.Reds,alpha=0.3)\n",
        "for i in range(cm.shape[0]):\n",
        "  for j in range(cm.shape[1]):\n",
        "    ax.text(x=j,y=i,s=cm[i,j],va='center',ha='center')\n",
        "plt.xlabel('Predicted Values')\n",
        "plt.ylabel('Actual Values')\n",
        "plt.show()"
      ],
      "metadata": {
        "id": "3hFTTU4L-WGB"
      },
      "execution_count": null,
      "outputs": []
    },
    {
      "cell_type": "code",
      "source": [
        "kernel_values=['linear','poly','rbf','sigmoid']\n",
        "param_grid={'C':np.logspace(-3,2,6),'gamma':np.logspace(-3,2,6),'kernel':kernel_values}\n",
        "grid=GridSearchCV(SVC(),param_grid=param_grid,cv=5)\n",
        "grid.fit(X_train,y_train)"
      ],
      "metadata": {
        "id": "USfNJK4-_Bnr"
      },
      "execution_count": null,
      "outputs": []
    },
    {
      "cell_type": "code",
      "source": [
        "print(\"The best parameters are %s with a score of %0.2f\" %(grid.best_params_,grid.best_score_))"
      ],
      "metadata": {
        "id": "Qmx0gl0pEyHw"
      },
      "execution_count": null,
      "outputs": []
    },
    {
      "cell_type": "code",
      "source": [
        "grid.best_estimator_.probability=True\n",
        "clf=grid.best_estimator_"
      ],
      "metadata": {
        "id": "st2Hf-KvG6jA"
      },
      "execution_count": null,
      "outputs": []
    },
    {
      "cell_type": "code",
      "source": [
        "y_pred=clf.fit(X_train,y_train).predict(X_test)\n",
        "cm=metrics.confusion_matrix(y_pred,y_test)\n",
        "print(cm)\n",
        "print(classification_report(y_pred,y_test))\n",
        "fig,ax=plt.subplots(figsize=(5,5))\n",
        "ax.matshow(cm,cmap=plt.cm.Reds,alpha=0.3)\n",
        "for i in range(cm.shape[0]):\n",
        "    for j in range(cm.shape[1]):\n",
        "        ax.text(x=j,y=i,s=cm[i,j],va='center',ha='center')\n",
        "plt.xlabel('Predicted Values')\n",
        "plt.ylabel('Actual Values')\n",
        "plt.show()"
      ],
      "metadata": {
        "id": "Rneiu2VNJcmq"
      },
      "execution_count": null,
      "outputs": []
    },
    {
      "cell_type": "code",
      "source": [
        "import matplotlib.pyplot as plt\n",
        "from matplotlib.colors import ListedColormap\n",
        "from sklearn import svm,datasets\n",
        "def decision_plot(X_train,y_train,n_neighbours,weights):\n",
        "    h=0.2\n",
        "Xtrain= X_train[:,:2]\n",
        "cmap_light=ListedColormap(['#FFAAAA','#AAFFAA','#FFFFAA'])\n",
        "cmap_bold=ListedColormap(['#FF0000','#00FF00','#0000FF'])\n",
        "C=1.0\n",
        "svm=SVC(kernel='linear',random_state=0,gamma=0.1,C=C).fit(Xtrain,y_train)\n",
        "rbf_svc=SVC(kernel='rbf',gamma=0.7,C=C).fit(Xtrain,y_train)\n",
        "poly_svc=SVC(kernel='poly',degree=3,C=C).fit(Xtrain,y_train)\n"
      ],
      "metadata": {
        "id": "D1YT58yuJ-Oa"
      },
      "execution_count": null,
      "outputs": []
    },
    {
      "cell_type": "code",
      "source": [
        "%matplotlib inline\n",
        "plt.rcParams['figure.figsize']=(15,9)\n",
        "plt.rcParams['axes.titlesize']='large'\n",
        "x_min,x_max=Xtrain[:,0].min()-1,Xtrain[:,0].max()+1\n",
        "y_min,y_max=Xtrain[:,1].min()-1,Xtrain[:,1].max()+1\n",
        "xx,yy=np.meshgrid(np.arange(x_min,x_max,0.1),np.arange(y_min,y_max,0.1))\n",
        "titles=['SVC with linear kernel','SVC with RBF kernel','SVC with polynomial(degree 3) kernel']\n"
      ],
      "metadata": {
        "id": "ua-4H8vkrmOS"
      },
      "execution_count": null,
      "outputs": []
    },
    {
      "cell_type": "code",
      "source": [
        "for i,clf in enumerate((svm,rbf_svc,poly_svc)):\n",
        "  plt.subplot(2,2,i+1)\n",
        "  plt.subplots_adjust(wspace=0.4,hspace=0.4)\n",
        "  z=clf.predict(np.c_[xx.ravel(),yy.ravel()])\n",
        "  z=z.reshape(xx.shape)\n",
        "  plt.contourf(xx,yy,z,cmap=plt.cm.coolwarm,alpha=0.8)\n",
        "  plt.scatter(Xtrain[:,0],Xtrain[:,1],c=y_train,cmap=plt.cm.coolwarm)\n",
        "  plt.xlabel('radius_mean')\n",
        "  plt.ylabel('texture_mean')\n",
        "  plt.xlim(xx.min(),xx.max())\n",
        "  plt.ylim(yy.min(),yy.max())\n",
        "  plt.xticks(())\n",
        "  plt.yticks(())\n",
        "  plt.title(titles[i])\n",
        "  plt.show()\n"
      ],
      "metadata": {
        "id": "WVjmDInxy_UV"
      },
      "execution_count": null,
      "outputs": []
    },
    {
      "cell_type": "code",
      "source": [
        "%matplotlib inline\n",
        "import matplotlib.pyplot as plt\n",
        "import pandas as pd\n",
        "import numpy as np\n",
        "from scipy.stats import norm\n",
        "from sklearn.model_selection import train_test_split\n",
        "from sklearn.model_selection import cross_val_score\n",
        "from sklearn.model_selection import KFold\n",
        "from sklearn.preprocessing import LabelEncoder\n",
        "from sklearn.preprocessing import StandardScaler\n",
        "from sklearn.decomposition import PCA\n",
        "from sklearn.pipeline import Pipeline\n",
        "from sklearn.model_selection import GridSearchCV\n",
        "from sklearn.linear_model import LogisticRegression\n",
        "from sklearn.tree import DecisionTreeClassifier\n",
        "from sklearn.neighbors import KNeighborsClassifier\n",
        "from sklearn.discriminant_analysis import LinearDiscriminantAnalysis\n",
        "from sklearn.naive_bayes import GaussianNB\n",
        "from sklearn.svm import SVC\n",
        "from sklearn.metrics import confusion_matrix\n",
        "from sklearn.metrics import accuracy_score\n",
        "from sklearn.metrics import classification_report\n",
        "import seaborn as sns\n",
        "plt.style.use('fivethirtyeight')\n",
        "sns.set_style('white')\n",
        "plt.rcParams['figure.figsize']=(8,4)\n"
      ],
      "metadata": {
        "id": "szCpoQt-GD4B"
      },
      "execution_count": null,
      "outputs": []
    },
    {
      "cell_type": "code",
      "source": [
        "df=pd.read_csv('/content/drive/MyDrive/Colab Notebooks/Breast_Cancer_Prediction/data_clean.csv',index_col=False)\n",
        "df.drop('Unnamed: 0',inplace=True,axis=1)\n",
        "array=df.values\n",
        "X=array[:,1:31]\n",
        "y=array[:,0]\n",
        "X_train,X_test,y_train,y_test=train_test_split(X,y,test_size=0.3,random_state=7)\n",
        "le=LabelEncoder()\n",
        "y=le.fit_transform(y)"
      ],
      "metadata": {
        "id": "sbxq1JhzPMSW"
      },
      "execution_count": null,
      "outputs": []
    },
    {
      "cell_type": "code",
      "source": [
        "# Spot-Check Algorithms\n",
        "models = []\n",
        "models.append(('LR', LogisticRegression()))\n",
        "models.append(('LDA', LinearDiscriminantAnalysis()))\n",
        "models.append(('KNN', KNeighborsClassifier()))\n",
        "models.append(('CART', DecisionTreeClassifier()))\n",
        "models.append(('NB', GaussianNB()))\n",
        "models.append(('SVM', SVC()))\n",
        "\n",
        "# Test options and evaluation metric\n",
        "num_folds = 10\n",
        "num_instances = len(X_train)\n",
        "seed = 7\n",
        "scoring = 'accuracy'\n",
        "\n",
        "# Test options and evaluation metric\n",
        "num_folds = 10\n",
        "num_instances = len(X_train)\n",
        "seed = 7\n",
        "scoring = 'accuracy'\n",
        "results = []\n",
        "names = []\n",
        "for name, model in models:\n",
        "    kfold = KFold(n_splits=num_folds, random_state=seed, shuffle=True)\n",
        "    cv_results = cross_val_score(model, X_train, y_train, cv=kfold, scoring=scoring)\n",
        "    results.append(cv_results)\n",
        "    names.append(name)\n",
        "    msg = \"%s: %f (%f)\" % (name, cv_results.mean(), cv_results.std())\n",
        "    print(msg)\n",
        "print('\\n➔ 10-Fold cross-validation accurcay score for the training data for six classifiers')"
      ],
      "metadata": {
        "id": "PkJ6-DxdQ_zO"
      },
      "execution_count": null,
      "outputs": []
    },
    {
      "cell_type": "code",
      "source": [
        "len(X_train)"
      ],
      "metadata": {
        "id": "OEIGP0jX2-1-"
      },
      "execution_count": null,
      "outputs": []
    },
    {
      "cell_type": "code",
      "source": [
        "print(names)"
      ],
      "metadata": {
        "id": "ykKnLSQFH8AY"
      },
      "execution_count": null,
      "outputs": []
    },
    {
      "cell_type": "code",
      "source": [
        "fig=plt.figure()\n",
        "fig.suptitle('Algorithm Comparison')\n",
        "ax=fig.add_subplot(111)\n",
        "plt.boxplot(results)\n",
        "ax.set_xticklabels(names)\n",
        "plt.show()"
      ],
      "metadata": {
        "id": "EhFyGCme9XF0"
      },
      "execution_count": null,
      "outputs": []
    },
    {
      "cell_type": "code",
      "source": [
        "pipelines=[]\n",
        "pipelines.append(('ScaledLR',Pipeline([('Scaler',StandardScaler()),('LR',LogisticRegression())])))\n",
        "pipelines.append(('ScaledLDA',Pipeline([('Scaler',StandardScaler()),('LDA',LinearDiscriminantAnalysis())])))\n",
        "pipelines.append(('ScaledKNN',Pipeline([('Scaler',StandardScaler()),('KNN',KNeighborsClassifier())])))\n",
        "pipelines.append(('ScaledCART',Pipeline([('Scaler',StandardScaler()),('CART',DecisionTreeClassifier())])))\n",
        "pipelines.append(('ScaledNB',Pipeline([('Scaler',StandardScaler()),('NB',GaussianNB())])))\n",
        "pipelines.append(('ScaledSVM',Pipeline([('Scaler',StandardScaler()),('SVM',SVC())])))\n",
        "results=[]\n",
        "names=[]\n",
        "for name,model in pipelines:\n",
        "  kfold=KFold(n_splits=num_folds,random_state=seed,shuffle=True)\n",
        "  cv_results=cross_val_score(model,X_train,y_train,cv=kfold,scoring=scoring)\n",
        "  results.append(cv_results)\n",
        "  names.append(name)\n",
        "  msg=\"%s: %f (%f)\" % (name,cv_results.mean(),cv_results.std())\n",
        "  print(msg)"
      ],
      "metadata": {
        "id": "5SJiOjqrG5kX"
      },
      "execution_count": null,
      "outputs": []
    },
    {
      "cell_type": "code",
      "source": [
        "fig=plt.figure()\n",
        "fig.suptitle('Scaled Algorithm Comparison')\n",
        "ax=fig.add_subplot(111)\n",
        "plt.boxplot(results)\n",
        "ax.set_xticklabels(names)\n",
        "plt.show()"
      ],
      "metadata": {
        "id": "0umb6HMXZmMA"
      },
      "execution_count": null,
      "outputs": []
    },
    {
      "cell_type": "code",
      "source": [
        "pipe_svc=Pipeline([('scl',StandardScaler()),\n",
        " ('pca',PCA(n_components=2)),\n",
        "                   ('clf',SVC(probability=True,verbose=False))])\n",
        "pipe_svc.fit(X_train,y_train)\n",
        "scores=cross_val_score(estimator=pipe_svc,X=X_train,y=y_train,cv=10,n_jobs=1,verbose=0)\n",
        "print('the model train accuracy: %.3f +/- %.3f' %(np.mean(scores),np.std(scores)))\n",
        "param_range=[0.0001,0.001,0.01,0.1,1.0,10.0,100.0,1000.0]\n",
        "param_grid=[{'clf__C': param_range,'clf__kernel':['linear']},{'clf__C':param_range,'clf__gamma':param_range,'clf__kernel':['rbf']}]\n",
        "gs=GridSearchCV(estimator=pipe_svc,param_grid=param_grid,scoring='accuracy',cv=10,n_jobs=1)\n",
        "gs=gs.fit(X_train,y_train)\n",
        "print('Tuned Parameters Best Score: ',gs.best_score_)\n",
        "print('Best Parameters: \\n',gs.best_params_)"
      ],
      "metadata": {
        "id": "a4YjT7rVzC5M"
      },
      "execution_count": null,
      "outputs": []
    },
    {
      "cell_type": "code",
      "source": [
        "from sklearn.neighbors import KNeighborsClassifier as KNN\n",
        "pipe_knn = Pipeline([('scl', StandardScaler()), ('pca', PCA(n_components=2)), ('clf', KNeighborsClassifier())])\n",
        "pipe_knn.fit(X_train, y_train)\n",
        "scores = cross_val_score(estimator=pipe_knn, cv=10, X=X_train, y=y_train, n_jobs=1)\n",
        "print('the model train accuracy: %.3f+/-%.3f'%(np.mean(scores),np.std(scores)))\n",
        "param_range=range(1,31)\n",
        "param_grid=[{'clf__n_neighbors':param_range}]\n",
        "gs=GridSearchCV(estimator=pipe_knn,param_grid=param_grid,cv=10,scoring='accuracy')\n",
        "gs=gs.fit(X_train,y_train)\n",
        "print('tuned parameters best score: ',gs.best_score_)\n",
        "print('Best parameters:\\n',gs.best_params_)\n"
      ],
      "metadata": {
        "id": "xDH5FNQRY5nx"
      },
      "execution_count": null,
      "outputs": []
    },
    {
      "cell_type": "code",
      "source": [
        "clf_svc=gs.best_estimator_\n",
        "clf_svc.fit(X_train,y_train)\n",
        "scores=cross_val_score(estimator=clf_svc,cv=10,X=X_train,y=y_train,n_jobs=1)\n",
        "print('Final model training accuracy is : %.3f+/-%.3f' %(np.mean(scores),np.std(scores)))\n",
        "print('Final Accuracy on Test Set: %.5f' %clf_svc.score(X_test,y_test))"
      ],
      "metadata": {
        "id": "3SMyxn1Sco3K"
      },
      "execution_count": null,
      "outputs": []
    },
    {
      "cell_type": "code",
      "source": [
        "clf_svc.fit(X_train,y_train)\n",
        "y_pred=clf_svc.predict(X_test)\n",
        "print(accuracy_score(y_test,y_pred))\n",
        "print(confusion_matrix(y_test,y_pred))\n",
        "print(classification_report(y_test,y_pred))"
      ],
      "metadata": {
        "id": "eMHKXJz9konA"
      },
      "execution_count": null,
      "outputs": []
    },
    {
      "cell_type": "code",
      "source": [],
      "metadata": {
        "id": "iKYS3Nhbl1v5"
      },
      "execution_count": null,
      "outputs": []
    }
  ]
}